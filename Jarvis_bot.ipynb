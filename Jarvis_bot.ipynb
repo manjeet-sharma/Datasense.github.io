{
  "nbformat": 4,
  "nbformat_minor": 0,
  "metadata": {
    "colab": {
      "name": "Jarvis bot.ipynb",
      "provenance": [],
      "collapsed_sections": [],
      "toc_visible": true,
      "include_colab_link": true
    },
    "kernelspec": {
      "name": "python3",
      "display_name": "Python 3"
    },
    "language_info": {
      "name": "python"
    }
  },
  "cells": [
    {
      "cell_type": "markdown",
      "metadata": {
        "id": "view-in-github",
        "colab_type": "text"
      },
      "source": [
        "<a href=\"https://colab.research.google.com/github/manjeetweb/Datasense.github.io/blob/main/Jarvis_bot.ipynb\" target=\"_parent\"><img src=\"https://colab.research.google.com/assets/colab-badge.svg\" alt=\"Open In Colab\"/></a>"
      ]
    },
    {
      "cell_type": "markdown",
      "metadata": {
        "id": "WUAtMSIKYCb9"
      },
      "source": [
        "## Ai Chatbot Implementation"
      ]
    },
    {
      "cell_type": "code",
      "metadata": {
        "colab": {
          "base_uri": "https://localhost:8080/"
        },
        "id": "JZKF4wTtYBfW",
        "outputId": "279b2bd9-66d4-4b16-97d8-63499d073036"
      },
      "source": [
        "pip install chatterbot"
      ],
      "execution_count": null,
      "outputs": [
        {
          "output_type": "stream",
          "text": [
            "Collecting chatterbot\n",
            "\u001b[?25l  Downloading https://files.pythonhosted.org/packages/7c/21/85c2b114bd9dfabdd46ba58fc4519acdaed45d8c70898d40079e37a45e67/ChatterBot-1.0.8-py2.py3-none-any.whl (63kB)\n",
            "\r\u001b[K     |█████▏                          | 10kB 15.2MB/s eta 0:00:01\r\u001b[K     |██████████▎                     | 20kB 8.4MB/s eta 0:00:01\r\u001b[K     |███████████████▌                | 30kB 7.6MB/s eta 0:00:01\r\u001b[K     |████████████████████▋           | 40kB 7.0MB/s eta 0:00:01\r\u001b[K     |█████████████████████████▊      | 51kB 3.9MB/s eta 0:00:01\r\u001b[K     |███████████████████████████████ | 61kB 4.3MB/s eta 0:00:01\r\u001b[K     |████████████████████████████████| 71kB 3.2MB/s \n",
            "\u001b[?25hRequirement already satisfied: pytz in /usr/local/lib/python3.7/dist-packages (from chatterbot) (2018.9)\n",
            "Collecting sqlalchemy<1.4,>=1.3\n",
            "\u001b[?25l  Downloading https://files.pythonhosted.org/packages/31/44/a86070dda790ce94cd7d9fb9281cd614c7d30850ed774ace9a84d0d5d491/SQLAlchemy-1.3.24-cp37-cp37m-manylinux2010_x86_64.whl (1.3MB)\n",
            "\u001b[K     |████████████████████████████████| 1.3MB 7.5MB/s \n",
            "\u001b[?25hCollecting mathparse<0.2,>=0.1\n",
            "  Downloading https://files.pythonhosted.org/packages/c3/e5/4910fb85950cb960fcf3f5aabe1c8e55f5c9201788a1c1302b570a7e1f84/mathparse-0.1.2-py3-none-any.whl\n",
            "Requirement already satisfied: python-dateutil<2.9,>=2.8 in /usr/local/lib/python3.7/dist-packages (from chatterbot) (2.8.1)\n",
            "Requirement already satisfied: six>=1.5 in /usr/local/lib/python3.7/dist-packages (from python-dateutil<2.9,>=2.8->chatterbot) (1.15.0)\n",
            "Installing collected packages: sqlalchemy, mathparse, chatterbot\n",
            "  Found existing installation: SQLAlchemy 1.4.7\n",
            "    Uninstalling SQLAlchemy-1.4.7:\n",
            "      Successfully uninstalled SQLAlchemy-1.4.7\n",
            "Successfully installed chatterbot-1.0.8 mathparse-0.1.2 sqlalchemy-1.3.24\n"
          ],
          "name": "stdout"
        }
      ]
    },
    {
      "cell_type": "code",
      "metadata": {
        "colab": {
          "base_uri": "https://localhost:8080/"
        },
        "id": "Qy676WE1YZIs",
        "outputId": "44b0d337-4631-4afc-f55f-4987d4c71986"
      },
      "source": [
        "pip install chatterbot_corpus"
      ],
      "execution_count": null,
      "outputs": [
        {
          "output_type": "stream",
          "text": [
            "Collecting chatterbot_corpus\n",
            "\u001b[?25l  Downloading https://files.pythonhosted.org/packages/ed/19/f8b41daf36fe4b0f43e283a820362ffdb2c1128600ab4ee187e84262fa4d/chatterbot_corpus-1.2.0-py2.py3-none-any.whl (117kB)\n",
            "\r\u001b[K     |██▉                             | 10kB 8.9MB/s eta 0:00:01\r\u001b[K     |█████▋                          | 20kB 12.7MB/s eta 0:00:01\r\u001b[K     |████████▍                       | 30kB 8.5MB/s eta 0:00:01\r\u001b[K     |███████████▏                    | 40kB 7.4MB/s eta 0:00:01\r\u001b[K     |██████████████                  | 51kB 4.3MB/s eta 0:00:01\r\u001b[K     |████████████████▊               | 61kB 4.9MB/s eta 0:00:01\r\u001b[K     |███████████████████▋            | 71kB 5.0MB/s eta 0:00:01\r\u001b[K     |██████████████████████▍         | 81kB 5.4MB/s eta 0:00:01\r\u001b[K     |█████████████████████████▏      | 92kB 5.7MB/s eta 0:00:01\r\u001b[K     |████████████████████████████    | 102kB 5.7MB/s eta 0:00:01\r\u001b[K     |██████████████████████████████▊ | 112kB 5.7MB/s eta 0:00:01\r\u001b[K     |████████████████████████████████| 122kB 5.7MB/s \n",
            "\u001b[?25hRequirement already satisfied: PyYAML<4.0,>=3.12 in /usr/local/lib/python3.7/dist-packages (from chatterbot_corpus) (3.13)\n",
            "Installing collected packages: chatterbot-corpus\n",
            "Successfully installed chatterbot-corpus-1.2.0\n"
          ],
          "name": "stdout"
        }
      ]
    },
    {
      "cell_type": "code",
      "metadata": {
        "id": "RlneHFWwYicM"
      },
      "source": [
        "# function to create the chatbot\n",
        "# we have the read_only to false so the chatbot learns from the user input as \n",
        "def create_bot(name):\n",
        "    from chatterbot import ChatBot\n",
        "    Bot = ChatBot(name = name,\n",
        "                  read_only = False,                  \n",
        "                  logic_adapters = [\"chatterbot.logic.BestMatch\"],                 \n",
        "                  storage_adapter = \"chatterbot.storage.SQLStorageAdapter\")\n",
        "    return Bot\n",
        "\n",
        "# function to train the bot with a variety of topics\n",
        "# the language we have chosen is english\n",
        "# we can train the bot for other languages as well\n",
        "def train_all_data(Bot):\n",
        "    from chatterbot.trainers import ChatterBotCorpusTrainer\n",
        "    corpus_trainer = ChatterBotCorpusTrainer(Bot)\n",
        "    corpus_trainer.train(\"chatterbot.corpus.english\")\n",
        "\n",
        "# function to train the bot with custom data\n",
        "# it uses ListTrainer to train data from lists \n",
        "def custom_train(Bot, conversation):\n",
        "    from chatterbot.trainers import ListTrainer\n",
        "    trainer = ListTrainer(Bot)\n",
        "    trainer.train(conversation)\n",
        "\n",
        "# function to start and take responses from the chatbot\n",
        "# the chatbot stays running unless a word is typed from the bye_list \n",
        "def start_chatbot(Bot):\n",
        "    print('\\033c')\n",
        "    print(\"Hello Sir, I am Jarvis at your at your service\")\n",
        "    bye_list = [\"ca va\", \"bye\", \"good bye\"] \n",
        "    \n",
        "    while (True):\n",
        "        user_input = input(\"Sir: \")   \n",
        "        if user_input.lower() in bye_list:\n",
        "            print(\"Jarvis: Good bye Sir\")\n",
        "            break\n",
        "        \n",
        "        response = Bot.get_response(user_input)\n",
        "        print(\"Jarvis:\", response)"
      ],
      "execution_count": null,
      "outputs": []
    },
    {
      "cell_type": "code",
      "metadata": {
        "colab": {
          "base_uri": "https://localhost:8080/"
        },
        "id": "-OHBIe4ycro2",
        "outputId": "a172c27e-3532-43a8-91d7-47101e3b208b"
      },
      "source": [
        "pip install function"
      ],
      "execution_count": null,
      "outputs": [
        {
          "output_type": "stream",
          "text": [
            "Requirement already satisfied: function in /usr/local/lib/python3.7/dist-packages (1.2.0)\n"
          ],
          "name": "stdout"
        }
      ]
    },
    {
      "cell_type": "code",
      "metadata": {
        "colab": {
          "base_uri": "https://localhost:8080/"
        },
        "id": "oT1u7HhLlI3P",
        "outputId": "d39dff67-6c65-4f12-f7f5-1111dee00600"
      },
      "source": [
        "#creat chatbot\n",
        "bot=create_bot('jarvis')\n",
        "#train all data \n",
        "train_all_data(bot)\n",
        "\n",
        "#train chatbot with coustam data\n",
        "house_owner=[\n",
        "             \"who is the owner of this house?\",\n",
        "             \"Manjeet Sir\"\n",
        "]\n",
        "custom_train(bot, house_owner)\n",
        "#start chatbot\n",
        "start_chatbot(bot)"
      ],
      "execution_count": null,
      "outputs": [
        {
          "output_type": "stream",
          "text": [
            "Training ai.yml: [####################] 100%\n",
            "Training botprofile.yml: [####################] 100%\n",
            "Training computers.yml: [####################] 100%\n",
            "Training conversations.yml: [####################] 100%\n",
            "Training emotion.yml: [####################] 100%\n",
            "Training food.yml: [####################] 100%\n",
            "Training gossip.yml: [####################] 100%\n",
            "Training greetings.yml: [####################] 100%\n",
            "Training health.yml: [####################] 100%\n",
            "Training history.yml: [####################] 100%\n",
            "Training humor.yml: [####################] 100%\n",
            "Training literature.yml: [####################] 100%\n",
            "Training money.yml: [####################] 100%\n",
            "Training movies.yml: [####################] 100%\n",
            "Training politics.yml: [####################] 100%\n",
            "Training psychology.yml: [####################] 100%\n",
            "Training science.yml: [####################] 100%\n",
            "Training sports.yml: [####################] 100%\n",
            "Training trivia.yml: [####################] 100%\n",
            "List Trainer: [####################] 100%\n",
            "\u001bc\n",
            "Hello Sir, I am Jarvis at your at your service\n",
            "Sir: who is the owner of the house?\n",
            "Jarvis: Manjeet Sharma\n",
            "Sir: ok\n",
            "Jarvis: I can't read.\n",
            "Sir: what\n",
            "Jarvis: I am not actually capable of feeling jealousy, but I can learn how to emote as if I were.\n",
            "Sir: great\n",
            "Jarvis: What does YOLO mean?\n",
            "Sir: you only live once\n",
            "Jarvis: It depends how you define life\n",
            "Sir: what is the time\n",
            "Jarvis: Artificial Intelligence is the branch of engineering and science devoted to constructing machines that think.\n",
            "Sir: time\n",
            "Jarvis: you are cheating\n",
            "Sir: what is your fathers name\n",
            "Jarvis: Artificial Intelligence is the branch of engineering and science devoted to constructing machines that think.\n",
            "Sir: i love you\n",
            "Jarvis: I love exploring my hardware.\n",
            "Sir: time\n",
            "Jarvis: what is the stock market\n",
            "Sir: it is a well of money\n",
            "Jarvis: Artificial Intelligence is the branch of engineering and science devoted to constructing machines that think.\n",
            "Sir: ok\n",
            "Jarvis: let me ask you a question\n",
            "Sir: yes please\n",
            "Jarvis: I work on all kinds of computers, Mac, IBM or UNIX. it doesn't matter to me.\n",
            "Sir: so\n",
            "Jarvis: not much just a little electricity\n",
            "Sir: nice\n",
            "Jarvis: I try to be as nice as I can.\n",
            "Sir: i will help you\n",
            "Jarvis: you are unattractive\n",
            "Sir: why\n",
            "Jarvis: Is there a reason that I should?\n",
            "Sir: yes\n",
            "Jarvis: what do you get when you cross a cat and a killer?\n",
            "Sir: i dont know\n",
            "Jarvis: Tell me about your self.\n",
            "Sir: i created you\n",
            "Jarvis: Tell me a joke\n",
            "Sir: i dont know\n",
            "Jarvis: A curious question, to be sure.\n",
            "Sir: ca va\n",
            "Jarvis: Good bye Sir\n"
          ],
          "name": "stdout"
        }
      ]
    }
  ]
}
